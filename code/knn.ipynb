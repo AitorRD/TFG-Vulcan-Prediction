{
 "cells": [
  {
   "cell_type": "code",
   "execution_count": 1,
   "metadata": {},
   "outputs": [],
   "source": [
    "import pandas as pd\n",
    "import os\n",
    "import matplotlib.pyplot as plt\n",
    "from sklearn.neighbors import KNeighborsRegressor"
   ]
  },
  {
   "cell_type": "code",
   "execution_count": null,
   "metadata": {},
   "outputs": [],
   "source": [
    "#KNN\n",
    "train_df = medias_df2\n",
    "test_df = medias_df_test\n",
    "\n",
    "def knn(train_df, test_df):\n",
    "    #Eliminamos los valores nulos (NaN)\n",
    "    train_df_clean = train_df.dropna()\n",
    "    test_df_cleaned = test_df.dropna()\n",
    "\n",
    "    knn_model = KNeighborsRegressor()\n",
    "    knn_model.fit(train_df_clean, train_df_clean.index)\n",
    "\n",
    "    y_pred_indices = knn_model.predict(test_df_cleaned)\n",
    "\n",
    "    return y_pred_indices\n",
    "\n",
    "y_pred_indices = knn(train_df, test_df)\n",
    "print(y_pred_indices)"
   ]
  }
 ],
 "metadata": {
  "kernelspec": {
   "display_name": "Python 3",
   "language": "python",
   "name": "python3"
  },
  "language_info": {
   "codemirror_mode": {
    "name": "ipython",
    "version": 3
   },
   "file_extension": ".py",
   "mimetype": "text/x-python",
   "name": "python",
   "nbconvert_exporter": "python",
   "pygments_lexer": "ipython3",
   "version": "3.11.8"
  }
 },
 "nbformat": 4,
 "nbformat_minor": 2
}
