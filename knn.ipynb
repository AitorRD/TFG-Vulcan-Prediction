{
 "cells": [
  {
   "cell_type": "code",
   "execution_count": null,
   "metadata": {},
   "outputs": [],
   "source": [
    "import pandas as pd\n",
    "import os\n",
    "import matplotlib.pyplot as plt\n",
    "from sklearn.neighbors import KNeighborsRegressor"
   ]
  },
  {
   "cell_type": "code",
   "execution_count": null,
   "metadata": {},
   "outputs": [],
   "source": [
    "directorio = 'kaggle/input/train/'\n",
    "medias_por_csv2 = []\n",
    "\n",
    "for archivo in os.listdir(directorio):\n",
    "    if archivo.endswith('.csv'): \n",
    "        ruta_csv = os.path.join(directorio, archivo)  \n",
    "        df = pd.read_csv(ruta_csv)\n",
    "        media_sensor2 = df.mean()\n",
    "        medias_por_csv2.append(media_sensor2)\n",
    "\n",
    "\n",
    "medias_df2 = pd.concat(medias_por_csv2, axis=1).T\n",
    "print(medias_df2)\n",
    "\n",
    "plt.figure(figsize=(12, 6))\n",
    "for sensor in medias_df2.columns:\n",
    "    plt.plot(medias_df2.index, medias_df2[sensor], label=sensor)\n",
    "\n",
    "plt.xlabel('ID del Volcán')\n",
    "plt.ylabel('Media del Sensor')\n",
    "plt.title('Media de los Sensores por ID de Volcán')\n",
    "plt.legend()\n",
    "plt.show()"
   ]
  },
  {
   "cell_type": "code",
   "execution_count": null,
   "metadata": {},
   "outputs": [],
   "source": [
    "directorio = 'kaggle/input/train/'\n",
    "desv_por_csv = []\n",
    "\n",
    "for archivo in os.listdir(directorio):\n",
    "    if archivo.endswith('.csv'): \n",
    "        ruta_csv = os.path.join(directorio, archivo)  \n",
    "        df = pd.read_csv(ruta_csv)\n",
    "        desv_sensor = df.std()  # Calcular la desviación estándar en lugar de la media\n",
    "        desv_por_csv.append(desv_sensor)\n",
    "\n",
    "desv_df = pd.concat(desv_por_csv, axis=1).T\n",
    "print(desv_df)\n",
    "\n",
    "# Crear una lista de sensores\n",
    "sensores = desv_df.columns\n",
    "\n",
    "# Crear una figura con 10 subgráficos (uno para cada sensor)\n",
    "plt.figure(figsize=(15, 20))\n",
    "for i, sensor in enumerate(sensores, start=1):\n",
    "    plt.subplot(5, 2, i)  # 5 filas, 2 columnas, índice del subgráfico\n",
    "    plt.plot(desv_df.index, desv_df[sensor], marker='o')\n",
    "    plt.xlabel('ID del Volcán')\n",
    "    plt.ylabel('Desviación Típica')\n",
    "    plt.title(f'Desviación Típica - Sensor {sensor}')\n",
    "    plt.grid(True)\n",
    "\n",
    "plt.tight_layout()  # Ajustar el espaciado entre subgráficos para mayor legibilidad\n",
    "plt.show()"
   ]
  },
  {
   "cell_type": "code",
   "execution_count": null,
   "metadata": {},
   "outputs": [],
   "source": [
    "directorio = 'pruebas2/'\n",
    "medias_por_csv_test = []\n",
    "\n",
    "for archivo in os.listdir(directorio):\n",
    "    if archivo.endswith('.csv'): \n",
    "        ruta_csv = os.path.join(directorio, archivo)  \n",
    "        df = pd.read_csv(ruta_csv)\n",
    "        media_sensor_test = df.mean()\n",
    "        medias_por_csv_test.append(media_sensor_test)\n",
    "\n",
    "\n",
    "medias_df_test = pd.concat(medias_por_csv_test, axis=1)\n",
    "medias_df_test = medias_df_test.T\n",
    "print(medias_df_test)"
   ]
  },
  {
   "cell_type": "code",
   "execution_count": null,
   "metadata": {},
   "outputs": [],
   "source": [
    "#KNN\n",
    "train_df = medias_df2\n",
    "test_df = medias_df_test\n",
    "\n",
    "def knn(train_df, test_df):\n",
    "    #Eliminamos los valores nulos (NaN)\n",
    "    train_df_clean = train_df.dropna()\n",
    "    test_df_cleaned = test_df.dropna()\n",
    "\n",
    "    knn_model = KNeighborsRegressor()\n",
    "    knn_model.fit(train_df_clean, train_df_clean.index)\n",
    "\n",
    "    y_pred_indices = knn_model.predict(test_df_cleaned)\n",
    "\n",
    "    return y_pred_indices\n",
    "\n",
    "y_pred_indices = knn(train_df, test_df)\n",
    "print(y_pred_indices)"
   ]
  }
 ],
 "metadata": {
  "kernelspec": {
   "display_name": "Python 3",
   "language": "python",
   "name": "python3"
  },
  "language_info": {
   "codemirror_mode": {
    "name": "ipython",
    "version": 3
   },
   "file_extension": ".py",
   "mimetype": "text/x-python",
   "name": "python",
   "nbconvert_exporter": "python",
   "pygments_lexer": "ipython3",
   "version": "3.11.8"
  }
 },
 "nbformat": 4,
 "nbformat_minor": 2
}
