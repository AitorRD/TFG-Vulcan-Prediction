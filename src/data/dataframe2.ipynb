{
 "cells": [
  {
   "cell_type": "code",
   "execution_count": 7,
   "metadata": {},
   "outputs": [
    {
     "name": "stdout",
     "output_type": "stream",
     "text": [
      "            media_global  time_to_eruption\n",
      "volcan_id                                 \n",
      "1000015382      0.576077          16258654\n",
      "1000554676      0.415505           6347792\n",
      "1000745424      0.116837           5120693\n",
      "1001461087     -1.195610          10393161\n",
      "1001732002      2.759244          20549733\n",
      "...                  ...               ...\n",
      "998393594       0.222180          23064624\n",
      "998625201      -1.377334          46296746\n",
      "998818197       1.283320          24733042\n",
      "998818893      -0.073283          40656101\n",
      "999761287      -2.143622           7511308\n",
      "\n",
      "[4431 rows x 2 columns]\n"
     ]
    }
   ],
   "source": [
    "import pandas as pd\n",
    "import os\n",
    "\n",
    "# Directorio que contiene los CSVs\n",
    "directory = '../../kaggle/input/train'\n",
    "\n",
    "# Leer train.csv y crear el diccionario segment_id -> time_to_eruption\n",
    "file_path = '../../kaggle/input/train.csv'\n",
    "train_df = pd.read_csv(file_path)\n",
    "train_df['segment_id'] = train_df['segment_id'].astype(str)\n",
    "time_to_eruption_dict = dict(zip(train_df['segment_id'], train_df['time_to_eruption']))\n",
    "\n",
    "dfs = []\n",
    "\n",
    "for filename in os.listdir(directory):\n",
    "    if filename.endswith(\".csv\"):\n",
    "        df = pd.read_csv(os.path.join(directory, filename))\n",
    "        media_global = df.mean().mean()\n",
    "        volcan_id = os.path.splitext(filename)[0]\n",
    "        volcan_data = {'volcan_id': volcan_id, 'media_global': media_global}\n",
    "        dfs.append(volcan_data)\n",
    "        \n",
    "# Crear DataFrame a partir de la lista de diccionarios\n",
    "df_global = pd.DataFrame(dfs)\n",
    "df_global.set_index('volcan_id', inplace=True)\n",
    "\n",
    "# Asignar time_to_eruption a cada volcan_id en df_global\n",
    "df_global['time_to_eruption'] = [time_to_eruption_dict.get(segment_id) for segment_id in df_global.index]\n",
    "\n",
    "# Mostrar el nuevo DataFrame\n",
    "print(df_global)"
   ]
  },
  {
   "cell_type": "code",
   "execution_count": 9,
   "metadata": {},
   "outputs": [],
   "source": [
    "df_global.to_csv('dataframe2.csv', index=True)"
   ]
  },
  {
   "cell_type": "code",
   "execution_count": null,
   "metadata": {},
   "outputs": [],
   "source": []
  }
 ],
 "metadata": {
  "kernelspec": {
   "display_name": "Python 3",
   "language": "python",
   "name": "python3"
  },
  "language_info": {
   "codemirror_mode": {
    "name": "ipython",
    "version": 3
   },
   "file_extension": ".py",
   "mimetype": "text/x-python",
   "name": "python",
   "nbconvert_exporter": "python",
   "pygments_lexer": "ipython3",
   "version": "3.11.9"
  }
 },
 "nbformat": 4,
 "nbformat_minor": 2
}
