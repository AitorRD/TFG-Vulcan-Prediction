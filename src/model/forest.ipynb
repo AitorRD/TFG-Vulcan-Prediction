{
 "cells": [
  {
   "cell_type": "code",
   "execution_count": 1,
   "metadata": {},
   "outputs": [],
   "source": [
    "import pandas as pd\n",
    "from sklearn.model_selection import train_test_split\n",
    "from sklearn.tree import DecisionTreeRegressor\n",
    "from sklearn.ensemble import RandomForestRegressor\n",
    "from sklearn.metrics import mean_absolute_error, mean_squared_error"
   ]
  },
  {
   "cell_type": "code",
   "execution_count": 30,
   "metadata": {},
   "outputs": [
    {
     "name": "stdout",
     "output_type": "stream",
     "text": [
      "Árbol de Decisión\n",
      "MAE: 15634993.07102593\n",
      "MSE: 373820770851649.0\n"
     ]
    }
   ],
   "source": [
    "df = pd.read_csv('../data/dataframe2.csv')\n",
    "\n",
    "X = df.drop(columns=['time_to_eruption', 'volcan_id'])\n",
    "y = df['time_to_eruption']\n",
    "X_train, X_test, y_train, y_test = train_test_split(X, y, test_size=0.2, random_state=42)\n",
    "\n",
    "tree_model = DecisionTreeRegressor(random_state=50)\n",
    "tree_model.fit(X_train, y_train)\n",
    "\n",
    "\n",
    "y_pred_tree = tree_model.predict(X_test)\n",
    "mae_tree = mean_absolute_error(y_test, y_pred_tree)\n",
    "mse_tree = mean_squared_error(y_test, y_pred_tree)\n",
    "\n",
    "print(\"Árbol de Decisión\")\n",
    "print(\"MAE:\", mae_tree)\n",
    "print(\"MSE:\", mse_tree)\n"
   ]
  },
  {
   "cell_type": "code",
   "execution_count": 29,
   "metadata": {},
   "outputs": [
    {
     "name": "stdout",
     "output_type": "stream",
     "text": [
      "Random Forest:\n",
      "MAE: 12421529.264464486\n",
      "MSE: 214613499264033.97\n"
     ]
    }
   ],
   "source": [
    "df = pd.read_csv('../data/dataframe2.csv')\n",
    "\n",
    "X = df.drop(columns=['time_to_eruption'])\n",
    "y = df['time_to_eruption']\n",
    "\n",
    "X_train, X_test, y_train, y_test = train_test_split(X, y, test_size=0.2, random_state=42)\n",
    "\n",
    "rf_model = RandomForestRegressor(n_estimators=50, random_state=50)\n",
    "rf_model.fit(X_train, y_train)\n",
    "\n",
    "y_pred_rf = rf_model.predict(X_test)\n",
    "\n",
    "mae_rf = mean_absolute_error(y_test, y_pred_rf)\n",
    "mse_rf = mean_squared_error(y_test, y_pred_rf)\n",
    "\n",
    "print(\"Random Forest:\")\n",
    "print(\"MAE:\", mae_rf)\n",
    "print(\"MSE:\", mse_rf)"
   ]
  }
 ],
 "metadata": {
  "kernelspec": {
   "display_name": "Python 3",
   "language": "python",
   "name": "python3"
  },
  "language_info": {
   "codemirror_mode": {
    "name": "ipython",
    "version": 3
   },
   "file_extension": ".py",
   "mimetype": "text/x-python",
   "name": "python",
   "nbconvert_exporter": "python",
   "pygments_lexer": "ipython3",
   "version": "3.11.undefined"
  }
 },
 "nbformat": 4,
 "nbformat_minor": 2
}
