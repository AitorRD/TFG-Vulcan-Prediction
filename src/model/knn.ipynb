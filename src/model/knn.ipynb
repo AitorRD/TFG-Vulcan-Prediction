{
 "cells": [
  {
   "cell_type": "code",
   "execution_count": 1,
   "metadata": {},
   "outputs": [],
   "source": [
    "#KNN\n",
    "import pandas as pd\n",
    "from sklearn.model_selection import train_test_split\n",
    "from sklearn.preprocessing import StandardScaler\n",
    "from sklearn.impute import SimpleImputer\n",
    "from sklearn.neighbors import KNeighborsRegressor\n",
    "from sklearn.metrics import mean_absolute_error"
   ]
  },
  {
   "cell_type": "code",
   "execution_count": 21,
   "metadata": {},
   "outputs": [
    {
     "name": "stdout",
     "output_type": "stream",
     "text": [
      "Error absoluto medio (MAE): 9846480.63427283\n"
     ]
    }
   ],
   "source": [
    "# Paso 1: Cargar los datos\n",
    "df = pd.read_csv(\"dataframe2.csv\")\n",
    "\n",
    "# Paso 2: Dividir los datos en características (X) y etiquetas (y)\n",
    "X = df.drop(columns=['time_to_eruption', 'segment_id'])  # Características\n",
    "y = df['time_to_eruption']  # Etiquetas\n",
    "\n",
    "# Paso 3: Imputar valores faltantes con la media\n",
    "imputer = SimpleImputer(strategy='mean')\n",
    "X_imputed = imputer.fit_transform(X)\n",
    "\n",
    "# Paso 4: Escalar características (features)\n",
    "scaler = StandardScaler()\n",
    "X_scaled = scaler.fit_transform(X_imputed)\n",
    "\n",
    "# Paso 5: Dividir datos en entrenamiento y prueba\n",
    "X_train, X_test, y_train, y_test = train_test_split(X_scaled, y, test_size=0.2, random_state=42)\n",
    "\n",
    "# Paso 6: Entrenar modelo KNN\n",
    "k = 5\n",
    "knn = KNeighborsRegressor(n_neighbors=k)\n",
    "knn.fit(X_train, y_train)\n",
    "\n",
    "# Paso 7: Predecir en el conjunto de prueba\n",
    "y_pred = knn.predict(X_test)\n",
    "\n",
    "# Paso 8: Calcular el error absoluto medio (MAE)\n",
    "mae = mean_absolute_error(y_test, y_pred)\n",
    "print(\"Error absoluto medio (MAE):\", mae)\n",
    "\n",
    "# Paso 9: Obtener predicciones para todo el conjunto de datos\n",
    "y_pred_full = knn.predict(X_scaled)\n",
    "\n",
    "# Paso 10: Guardar los resultados en un nuevo CSV\n",
    "resultados = pd.DataFrame({\"segment_id\": df[\"segment_id\"], \"time_to_eruption_pred_knn\": y_pred_full})\n",
    "resultados.to_csv(\"knn_iteration.csv\", index=False)"
   ]
  }
 ],
 "metadata": {
  "kernelspec": {
   "display_name": "Python 3",
   "language": "python",
   "name": "python3"
  },
  "language_info": {
   "codemirror_mode": {
    "name": "ipython",
    "version": 3
   },
   "file_extension": ".py",
   "mimetype": "text/x-python",
   "name": "python",
   "nbconvert_exporter": "python",
   "pygments_lexer": "ipython3",
   "version": "3.11.9"
  }
 },
 "nbformat": 4,
 "nbformat_minor": 2
}
